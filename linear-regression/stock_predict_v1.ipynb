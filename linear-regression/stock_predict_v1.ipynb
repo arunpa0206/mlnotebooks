{
 "cells": [
  {
   "cell_type": "code",
   "execution_count": 11,
   "metadata": {
    "id": "kgK9RvlBKSoe"
   },
   "outputs": [],
   "source": [
    "import quandl as Quandl, math\n",
    "import numpy as np\n",
    "import pandas as pd\n",
    "from sklearn import preprocessing, model_selection as cross_validation, svm\n",
    "from sklearn.linear_model import LinearRegression\n",
    "import matplotlib.pyplot as plt\n",
    "from matplotlib import style\n",
    "import datetime\n",
    "import pickle\n",
    "\n",
    "style.use('ggplot')\n"
   ]
  },
  {
   "cell_type": "code",
   "execution_count": 12,
   "metadata": {
    "colab": {
     "base_uri": "https://localhost:8080/"
    },
    "id": "mjh1a-mRKWYh",
    "outputId": "5847daa8-7950-4c00-8c64-ed6d366a4fed"
   },
   "outputs": [
    {
     "name": "stdout",
     "output_type": "stream",
     "text": [
      "             Adj. Close     HL_PCT  PCT_change  Adj. Volume\n",
      "Date                                                       \n",
      "1997-05-16     1.729167  15.853659   -7.283289   14700000.0\n",
      "1997-05-19     1.708333   8.974359    0.000000    6106800.0\n",
      "1997-05-20     1.635833   6.979114   -5.397590    5467200.0\n",
      "1997-05-21     1.427500  19.696970  -11.012987   18853200.0\n",
      "1997-05-22     1.395833  10.349206   -2.898551   11776800.0\n",
      "...                 ...        ...         ...          ...\n",
      "2018-03-21  1581.860000   1.716384   -0.289325    4667291.0\n",
      "2018-03-22  1544.100000   2.039030   -1.365085    6177737.0\n",
      "2018-03-23  1495.560000   3.588434   -2.823244    7843966.0\n",
      "2018-03-26  1555.860000   3.851259    1.690196    5547618.0\n",
      "2018-03-27  1497.050000   6.317125   -4.792038    6793279.0\n",
      "\n",
      "[5248 rows x 4 columns]\n"
     ]
    }
   ],
   "source": [
    "def get():\n",
    "    df = Quandl.get(\"WIKI/AMZN\",api_key='tJbUksb_TeZXtwAgDeia')\n",
    "    df = df[['Adj. Open',  'Adj. High',  'Adj. Low',  'Adj. Close', 'Adj. Volume']] \n",
    "\n",
    "    df['HL_PCT'] = (df['Adj. High'] - df['Adj. Low']) / df['Adj. Low'] * 100.0\n",
    "    df['PCT_change'] = (df['Adj. Close'] - df['Adj. Open']) / df['Adj. Open'] * 100.0\n",
    "\n",
    "    df = df[['Adj. Close', 'HL_PCT', 'PCT_change', 'Adj. Volume']]\n",
    "    return df\n",
    "df = get()\n",
    "print(df)"
   ]
  },
  {
   "cell_type": "code",
   "execution_count": 14,
   "metadata": {
    "colab": {
     "base_uri": "https://localhost:8080/"
    },
    "id": "V9DL4IboKY0b",
    "outputId": "c53ff54c-8437-4b10-daca-86aed81cdd20"
   },
   "outputs": [
    {
     "name": "stdout",
     "output_type": "stream",
     "text": [
      "[ 3.1129096  -0.75804014  0.18023036 -0.68516844]\n",
      "[-0.73951036  3.17166092 -2.25908032  0.91363525]\n",
      "2.395833333333333\n"
     ]
    }
   ],
   "source": [
    "def preprocess(df):\n",
    "    forecast_col = 'Adj. Close'\n",
    "    df.fillna(value=-99999, inplace=True)\n",
    "    forecast_out = int(math.ceil(0.01 * len(df)))\n",
    "    df['label'] = df[forecast_col].shift(-forecast_out)\n",
    "\n",
    "    # X is the input data and excludes labels to be predicted\n",
    "    X = np.array(df.drop(['label'], 1))\n",
    "    #Preprocessing gets values between -1 and 1\n",
    "    X = preprocessing.scale(X)\n",
    "    #Input for which prediction is needed\n",
    "    X_lately = X[-forecast_out:]\n",
    "    X = X[:-forecast_out]\n",
    "\n",
    "    df.dropna(inplace=True)\n",
    "\n",
    "    #Output to be predicted\n",
    "    y = np.array(df['label'])\n",
    "    return X_lately,X,y\n",
    "X_lately,X,y = preprocess(df)\n",
    "print(X_lately[0])\n",
    "print(X[0])\n",
    "print(y[0])\n"
   ]
  },
  {
   "cell_type": "code",
   "execution_count": 16,
   "metadata": {
    "id": "iJ8h904GKbSs"
   },
   "outputs": [],
   "source": [
    "def split(X,y):\n",
    "    X_train, X_test, y_train, y_test = cross_validation.train_test_split(X, y, test_size=0.2)\n",
    "    return X_train, X_test, y_train, y_test\n",
    "X_train, X_test, y_train, y_test = split(X,y)\n"
   ]
  },
  {
   "cell_type": "code",
   "execution_count": 17,
   "metadata": {
    "colab": {
     "base_uri": "https://localhost:8080/"
    },
    "id": "2T4V-ez9KeE0",
    "outputId": "0069f50f-e7ff-4159-ea82-909d5dc70949"
   },
   "outputs": [
    {
     "name": "stdout",
     "output_type": "stream",
     "text": [
      "LinearRegression(copy_X=True, fit_intercept=True, n_jobs=-1, normalize=False)\n"
     ]
    }
   ],
   "source": [
    "def train(X_train,y_train):\n",
    "    model = LinearRegression(n_jobs=-1)\n",
    "    model.fit(X_train,y_train)\n",
    "    return model\n",
    "model = train(X_train,y_train)\n",
    "print(model)"
   ]
  },
  {
   "cell_type": "code",
   "execution_count": 18,
   "metadata": {
    "id": "CyNIzuXuKmP0"
   },
   "outputs": [],
   "source": [
    "def savemodel(model):\n",
    "    with open('linearregression.pickle','wb') as f:\n",
    "        pickle.dump(model, f)\n",
    "savemodel(model)"
   ]
  },
  {
   "cell_type": "code",
   "execution_count": 19,
   "metadata": {
    "colab": {
     "base_uri": "https://localhost:8080/"
    },
    "id": "FbP2qxWGKoNE",
    "outputId": "5751526e-bd4c-43f1-da1c-9abd08ee4006"
   },
   "outputs": [
    {
     "name": "stdout",
     "output_type": "stream",
     "text": [
      "Confidence: 0.9807921830246054\n"
     ]
    }
   ],
   "source": [
    "def test(X_test,y_test):\n",
    "    confidence = model.score(X_test, y_test)\n",
    "    return confidence\n",
    "confidence = test(X_test,y_test)\n",
    "print('Confidence:', confidence)\n"
   ]
  },
  {
   "cell_type": "code",
   "execution_count": 21,
   "metadata": {
    "colab": {
     "base_uri": "https://localhost:8080/"
    },
    "id": "Np-vLLrDKpyT",
    "outputId": "b92a6965-52ec-41c0-e3df-daa71f4f7fb4"
   },
   "outputs": [
    {
     "name": "stdout",
     "output_type": "stream",
     "text": [
      "Empty DataFrame\n",
      "Columns: [Adj. Close, HL_PCT, PCT_change, Adj. Volume, label, Forecast]\n",
      "Index: []\n"
     ]
    }
   ],
   "source": [
    "def pred(X_lately):\n",
    "    forecast_set = model.predict(X_lately)\n",
    "    df['Forecast'] = np.nan\n",
    "    #Predict for every day after the last day in training set\n",
    "    print(df.head(0))\n",
    "    last_date = df.iloc[-1].name\n",
    "    last_unix = last_date.timestamp()\n",
    "    one_day = 86400\n",
    "    next_unix = last_unix + one_day\n",
    "    for i in forecast_set:\n",
    "        next_date = datetime.datetime.fromtimestamp(next_unix)\n",
    "        next_unix += 86400\n",
    "        df.loc[next_date] = [np.nan for _ in range(len(df.columns)-1)]+[i]\n",
    " \n",
    "    return forecast_set\n",
    "forecast_set=pred(X_lately)\n",
    "\n"
   ]
  },
  {
   "cell_type": "code",
   "execution_count": 22,
   "metadata": {
    "colab": {
     "base_uri": "https://localhost:8080/",
     "height": 276
    },
    "id": "JlsTXFa4Krdz",
    "outputId": "dc35bdd9-894e-4c96-ce4e-3f952882ef96"
   },
   "outputs": [
    {
     "data": {
      "image/png": "[encoded data removed]",
      "text/plain": [
       "<Figure size 432x288 with 1 Axes>"
      ]
     },
     "metadata": {
      "tags": []
     },
     "output_type": "display_data"
    }
   ],
   "source": [
    "def visualization():\n",
    "#Plot the graph for visualizayion\n",
    "  df['Adj. Close'].plot()\n",
    "  df['Forecast'].plot()\n",
    "  plt.legend(loc=4)\n",
    "  plt.xlabel('Date')\n",
    "  plt.ylabel('Price')\n",
    "  plt.show()\n",
    "visualization()"
   ]
  },
  {
   "cell_type": "code",
   "execution_count": null,
   "metadata": {
    "id": "qdp0OJkbKtXq"
   },
   "outputs": [],
   "source": []
  }
 ],
 "metadata": {
  "colab": {
   "name": "Untitled3.ipynb",
   "provenance": []
  },
  "kernelspec": {
   "display_name": "Python 3",
   "language": "python",
   "name": "python3"
  },
  "language_info": {
   "codemirror_mode": {
    "name": "ipython",
    "version": 3
   },
   "file_extension": ".py",
   "mimetype": "text/x-python",
   "name": "python",
   "nbconvert_exporter": "python",
   "pygments_lexer": "ipython3",
   "version": "3.8.5"
  }
 },
 "nbformat": 4,
 "nbformat_minor": 1
}
