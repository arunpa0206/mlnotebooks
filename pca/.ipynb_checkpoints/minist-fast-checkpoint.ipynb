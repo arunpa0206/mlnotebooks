{
 "cells": [
  {
   "cell_type": "code",
   "execution_count": 6,
   "metadata": {
    "executionInfo": {
     "elapsed": 34965,
     "status": "ok",
     "timestamp": 1613997206427,
     "user": {
      "displayName": "meenakshi meyyammai",
      "photoUrl": "https://lh3.googleusercontent.com/a-/AOh14GgqOL6XSRGNDaYfV_dgRFMRv7m8ABRr31ql5RGa4g=s64",
      "userId": "11768016833716445346"
     },
     "user_tz": -330
    },
    "id": "vnCvLK0fuOj0"
   },
   "outputs": [],
   "source": [
    "from sklearn.datasets import fetch_openml\n",
    "mnist = fetch_openml('mnist_784')\n",
    "\n",
    "from sklearn.model_selection import train_test_split\n",
    "# test_size: what proportion of original data is used for test set\n",
    "train_img, test_img, train_lbl, test_lbl = train_test_split( mnist.data, mnist.target, test_size=1/7.0, random_state=0)\n",
    "\n",
    "from sklearn.preprocessing import StandardScaler\n"
   ]
  },
  {
   "cell_type": "code",
   "execution_count": 7,
   "metadata": {},
   "outputs": [],
   "source": [
    "scaler = StandardScaler()\n",
    "# Fit on training set only.\n",
    "scaler.fit(train_img)\n",
    "# Apply transform to both the training set and the test set.\n",
    "train_img = scaler.transform(train_img)\n",
    "test_img = scaler.transform(test_img)\n",
    "\n"
   ]
  },
  {
   "cell_type": "code",
   "execution_count": 8,
   "metadata": {
    "colab": {
     "base_uri": "https://localhost:8080/"
    },
    "executionInfo": {
     "elapsed": 210051,
     "status": "ok",
     "timestamp": 1613997385179,
     "user": {
      "displayName": "meenakshi meyyammai",
      "photoUrl": "https://lh3.googleusercontent.com/a-/AOh14GgqOL6XSRGNDaYfV_dgRFMRv7m8ABRr31ql5RGa4g=s64",
      "userId": "11768016833716445346"
     },
     "user_tz": -330
    },
    "id": "-ZM3YkbIuksD",
    "outputId": "43da097d-8461-426a-fc5c-a942dfd87559"
   },
   "outputs": [],
   "source": [
    "\n",
    "from sklearn.decomposition import PCA\n",
    "# Make an instance of the Model\n",
    "pca = PCA(.95)\n",
    "pca.fit(train_img)\n",
    "\n",
    "train_img = pca.transform(train_img)\n",
    "test_img = pca.transform(test_img)\n",
    "\n"
   ]
  },
  {
   "cell_type": "code",
   "execution_count": 9,
   "metadata": {},
   "outputs": [
    {
     "name": "stdout",
     "output_type": "stream",
     "text": [
      "['0']\n"
     ]
    }
   ],
   "source": [
    "\n",
    "from sklearn.linear_model import LogisticRegression\n",
    "# all parameters not specified are set to their defaults\n",
    "# default solver is incredibly slow which is why it was changed to 'lbfgs'\n",
    "logisticRegr = LogisticRegression(solver = 'lbfgs',max_iter=7600,multi_class='auto')\n",
    "logisticRegr.fit(train_img, train_lbl)\n",
    "\n",
    "# Predict for One Observation (image)\n",
    "print(logisticRegr.predict(test_img[0].reshape(1,-1)))\n",
    "\n"
   ]
  },
  {
   "cell_type": "code",
   "execution_count": 10,
   "metadata": {},
   "outputs": [
    {
     "name": "stdout",
     "output_type": "stream",
     "text": [
      "['0' '4' '1' '2' '4' '7' '7' '1' '1' '7']\n",
      "0.9184\n"
     ]
    }
   ],
   "source": [
    "# Predict for One Observation (image)\n",
    "print(logisticRegr.predict(test_img[0:10]))\n",
    "print(logisticRegr.score(test_img, test_lbl))\n",
    "\n"
   ]
  },
  {
   "cell_type": "code",
   "execution_count": 11,
   "metadata": {
    "colab": {
     "base_uri": "https://localhost:8080/",
     "height": 54
    },
    "executionInfo": {
     "elapsed": 207510,
     "status": "ok",
     "timestamp": 1613997385188,
     "user": {
      "displayName": "meenakshi meyyammai",
      "photoUrl": "https://lh3.googleusercontent.com/a-/AOh14GgqOL6XSRGNDaYfV_dgRFMRv7m8ABRr31ql5RGa4g=s64",
      "userId": "11768016833716445346"
     },
     "user_tz": -330
    },
    "id": "NknRXqZounEH",
    "outputId": "6be6a97e-57de-4e2e-b0f4-8e6e37bafcec"
   },
   "outputs": [
    {
     "data": {
      "image/png": "[encoded data removed]",
      "text/plain": [
       "<Figure size 576x288 with 1 Axes>"
      ]
     },
     "metadata": {
      "needs_background": "light"
     },
     "output_type": "display_data"
    }
   ],
   "source": [
    "\n",
    "import matplotlib.pyplot as plt\n",
    "\n",
    "plt.figure(figsize=(8,4));\n",
    "\n",
    "# Original Image\n",
    "plt.subplot(1, 2, 1);\n",
    "plt.imshow(mnist.data[1].reshape(28,28),\n",
    "              cmap = plt.cm.gray, interpolation='nearest',\n",
    "              clim=(0, 255));\n",
    "plt.xlabel('784 components', fontsize = 14)\n",
    "plt.title('Original Image', fontsize = 20);\n",
    "\n",
    "\n",
    "\n",
    "plt.show()"
   ]
  },
  {
   "cell_type": "code",
   "execution_count": null,
   "metadata": {
    "id": "yf90TqRpunsC"
   },
   "outputs": [],
   "source": []
  }
 ],
 "metadata": {
  "colab": {
   "authorship_tag": "ABX9TyMPsC4ncBeN+ZIwNPyvdj2Y",
   "name": "minist-fast.ipynb",
   "provenance": []
  },
  "kernelspec": {
   "display_name": "Python 3",
   "language": "python",
   "name": "python3"
  },
  "language_info": {
   "codemirror_mode": {
    "name": "ipython",
    "version": 3
   },
   "file_extension": ".py",
   "mimetype": "text/x-python",
   "name": "python",
   "nbconvert_exporter": "python",
   "pygments_lexer": "ipython3",
   "version": "3.8.5"
  }
 },
 "nbformat": 4,
 "nbformat_minor": 1
}
