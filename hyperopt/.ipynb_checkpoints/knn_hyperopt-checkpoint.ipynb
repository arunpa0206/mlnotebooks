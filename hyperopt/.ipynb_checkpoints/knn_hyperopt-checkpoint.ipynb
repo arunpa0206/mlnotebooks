{
 "cells": [
  {
   "cell_type": "code",
   "execution_count": 3,
   "metadata": {
    "colab": {
     "base_uri": "https://localhost:8080/"
    },
    "executionInfo": {
     "elapsed": 5105,
     "status": "ok",
     "timestamp": 1614457593732,
     "user": {
      "displayName": "meenakshi meyyammai",
      "photoUrl": "https://lh3.googleusercontent.com/a-/AOh14GgqOL6XSRGNDaYfV_dgRFMRv7m8ABRr31ql5RGa4g=s64",
      "userId": "11768016833716445346"
     },
     "user_tz": -330
    },
    "id": "G8js9e6qKXvb",
    "outputId": "94f7cfac-826e-47e6-c33a-58315293c52c"
   },
   "outputs": [
    {
     "name": "stdout",
     "output_type": "stream",
     "text": [
      "100%|██████████| 100/100 [00:03<00:00, 31.39trial/s, best loss: -0.9800000000000001]\n",
      "best:\n",
      "{'n_neighbors': 5}\n"
     ]
    }
   ],
   "source": [
    "\n",
    "  \n",
    "from sklearn import datasets\n",
    "from sklearn.neighbors import KNeighborsClassifier\n",
    "from sklearn.model_selection import cross_val_score\n",
    "from hyperopt import fmin, tpe, hp, STATUS_OK, Trials\n",
    "\n",
    "#load dataset\n",
    "iris = datasets.load_iris()\n",
    "X = iris.data\n",
    "y = iris.target\n",
    "\n",
    "#for a given set of parameters check accuracy\n",
    "def hyperopt_train_test(params):\n",
    "    clf = KNeighborsClassifier(**params)\n",
    "    #cross_val_score estimates the expected accuracy of your\n",
    "    # model on out-of-training data\n",
    "    return cross_val_score(clf, X, y).mean()\n",
    "\n",
    "#define the search space for the hyper parametr K\n",
    "space4knn = {\n",
    "    'n_neighbors': hp.choice('n_neighbors', range(1,100))\n",
    "}\n",
    "#this function returns the loss function which is negative Accuracy\n",
    "#minimize negative accuracy by choosing right hyperparametrs\n",
    "#this will maximise the accuracy\n",
    "def f(params):\n",
    "    acc = hyperopt_train_test(params)\n",
    "    return {'loss': -acc, 'status': STATUS_OK}\n",
    "trials = Trials()\n",
    "#optimization algoriyhm used is tpe (tree parzen esimator)\n",
    "best = fmin(f, space4knn, algo=tpe.suggest, max_evals=100, trials=trials)\n",
    "print ('best:')\n",
    "print (best)"
   ]
  },
  {
   "cell_type": "code",
   "execution_count": 2,
   "metadata": {
    "id": "I3nPpQtIKocI"
   },
   "outputs": [
    {
     "name": "stdout",
     "output_type": "stream",
     "text": [
      "Collecting hyperopt\n",
      "  Downloading hyperopt-0.2.5-py2.py3-none-any.whl (965 kB)\n",
      "\u001b[K     |████████████████████████████████| 965 kB 2.4 MB/s eta 0:00:01\n",
      "\u001b[?25hRequirement already satisfied: scipy in /usr/local/anaconda3/lib/python3.8/site-packages (from hyperopt) (1.5.2)\n",
      "Requirement already satisfied: tqdm in /usr/local/anaconda3/lib/python3.8/site-packages (from hyperopt) (4.50.2)\n",
      "Requirement already satisfied: future in /usr/local/anaconda3/lib/python3.8/site-packages (from hyperopt) (0.18.2)\n",
      "Requirement already satisfied: cloudpickle in /usr/local/anaconda3/lib/python3.8/site-packages (from hyperopt) (1.6.0)\n",
      "Requirement already satisfied: networkx>=2.2 in /usr/local/anaconda3/lib/python3.8/site-packages (from hyperopt) (2.5)\n",
      "Requirement already satisfied: numpy in /usr/local/anaconda3/lib/python3.8/site-packages (from hyperopt) (1.19.2)\n",
      "Requirement already satisfied: six in /usr/local/anaconda3/lib/python3.8/site-packages (from hyperopt) (1.15.0)\n",
      "Requirement already satisfied: decorator>=4.3.0 in /usr/local/anaconda3/lib/python3.8/site-packages (from networkx>=2.2->hyperopt) (4.4.2)\n",
      "Installing collected packages: hyperopt\n",
      "Successfully installed hyperopt-0.2.5\n"
     ]
    }
   ],
   "source": [
    "!pip install hyperopt"
   ]
  },
  {
   "cell_type": "code",
   "execution_count": null,
   "metadata": {},
   "outputs": [],
   "source": []
  }
 ],
 "metadata": {
  "colab": {
   "authorship_tag": "ABX9TyPE4is/CzmhAtcqRqnr2iW6",
   "name": "knn_hyperopt.ipynb",
   "provenance": []
  },
  "kernelspec": {
   "display_name": "Python 3",
   "language": "python",
   "name": "python3"
  },
  "language_info": {
   "codemirror_mode": {
    "name": "ipython",
    "version": 3
   },
   "file_extension": ".py",
   "mimetype": "text/x-python",
   "name": "python",
   "nbconvert_exporter": "python",
   "pygments_lexer": "ipython3",
   "version": "3.8.5"
  }
 },
 "nbformat": 4,
 "nbformat_minor": 1
}
