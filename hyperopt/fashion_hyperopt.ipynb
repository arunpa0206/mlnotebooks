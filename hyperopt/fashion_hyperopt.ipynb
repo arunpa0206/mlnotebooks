{
 "cells": [
  {
   "cell_type": "code",
   "execution_count": 3,
   "metadata": {
    "colab": {
     "base_uri": "https://localhost:8080/"
    },
    "executionInfo": {
     "elapsed": 4818,
     "status": "ok",
     "timestamp": 1614457247611,
     "user": {
      "displayName": "meenakshi meyyammai",
      "photoUrl": "https://lh3.googleusercontent.com/a-/AOh14GgqOL6XSRGNDaYfV_dgRFMRv7m8ABRr31ql5RGa4g=s64",
      "userId": "11768016833716445346"
     },
     "user_tz": -330
    },
    "id": "bdw3LDFBJfR0",
    "outputId": "fdf3f80e-d922-416e-d541-d16beb41e1ac"
   },
   "outputs": [
    {
     "name": "stdout",
     "output_type": "stream",
     "text": [
      "Collecting hyperas\n",
      "  Using cached hyperas-0.4.1-py3-none-any.whl (9.1 kB)\n",
      "Requirement already satisfied: entrypoints in /usr/local/anaconda3/lib/python3.8/site-packages (from hyperas) (0.3)\n",
      "Requirement already satisfied: keras in /usr/local/anaconda3/lib/python3.8/site-packages (from hyperas) (2.4.3)\n",
      "Requirement already satisfied: nbconvert in /usr/local/anaconda3/lib/python3.8/site-packages (from hyperas) (6.0.7)\n",
      "Requirement already satisfied: nbformat in /usr/local/anaconda3/lib/python3.8/site-packages (from hyperas) (5.0.8)\n",
      "Requirement already satisfied: jupyter in /usr/local/anaconda3/lib/python3.8/site-packages (from hyperas) (1.0.0)\n",
      "Requirement already satisfied: hyperopt in /usr/local/anaconda3/lib/python3.8/site-packages (from hyperas) (0.2.5)\n",
      "Requirement already satisfied: pyyaml in /usr/local/anaconda3/lib/python3.8/site-packages (from keras->hyperas) (5.3.1)\n",
      "Requirement already satisfied: numpy>=1.9.1 in /usr/local/anaconda3/lib/python3.8/site-packages (from keras->hyperas) (1.19.2)\n",
      "Requirement already satisfied: scipy>=0.14 in /usr/local/anaconda3/lib/python3.8/site-packages (from keras->hyperas) (1.5.2)\n",
      "Requirement already satisfied: h5py in /usr/local/anaconda3/lib/python3.8/site-packages (from keras->hyperas) (2.10.0)\n",
      "Requirement already satisfied: jinja2>=2.4 in /usr/local/anaconda3/lib/python3.8/site-packages (from nbconvert->hyperas) (2.11.2)\n",
      "Requirement already satisfied: bleach in /usr/local/anaconda3/lib/python3.8/site-packages (from nbconvert->hyperas) (3.2.1)\n",
      "Requirement already satisfied: pygments>=2.4.1 in /usr/local/anaconda3/lib/python3.8/site-packages (from nbconvert->hyperas) (2.7.2)\n",
      "Requirement already satisfied: testpath in /usr/local/anaconda3/lib/python3.8/site-packages (from nbconvert->hyperas) (0.4.4)\n",
      "Requirement already satisfied: mistune<2,>=0.8.1 in /usr/local/anaconda3/lib/python3.8/site-packages (from nbconvert->hyperas) (0.8.4)\n",
      "Requirement already satisfied: nbclient<0.6.0,>=0.5.0 in /usr/local/anaconda3/lib/python3.8/site-packages (from nbconvert->hyperas) (0.5.1)\n",
      "Requirement already satisfied: jupyterlab-pygments in /usr/local/anaconda3/lib/python3.8/site-packages (from nbconvert->hyperas) (0.1.2)\n",
      "Requirement already satisfied: jupyter-core in /usr/local/anaconda3/lib/python3.8/site-packages (from nbconvert->hyperas) (4.6.3)\n",
      "Requirement already satisfied: pandocfilters>=1.4.1 in /usr/local/anaconda3/lib/python3.8/site-packages (from nbconvert->hyperas) (1.4.3)\n",
      "Requirement already satisfied: traitlets>=4.2 in /usr/local/anaconda3/lib/python3.8/site-packages (from nbconvert->hyperas) (5.0.5)\n",
      "Requirement already satisfied: defusedxml in /usr/local/anaconda3/lib/python3.8/site-packages (from nbconvert->hyperas) (0.6.0)\n",
      "Requirement already satisfied: jsonschema!=2.5.0,>=2.4 in /usr/local/anaconda3/lib/python3.8/site-packages (from nbformat->hyperas) (3.2.0)\n",
      "Requirement already satisfied: ipython-genutils in /usr/local/anaconda3/lib/python3.8/site-packages (from nbformat->hyperas) (0.2.0)\n",
      "Requirement already satisfied: notebook in /usr/local/anaconda3/lib/python3.8/site-packages (from jupyter->hyperas) (6.1.4)\n",
      "Requirement already satisfied: jupyter-console in /usr/local/anaconda3/lib/python3.8/site-packages (from jupyter->hyperas) (6.2.0)\n",
      "Requirement already satisfied: qtconsole in /usr/local/anaconda3/lib/python3.8/site-packages (from jupyter->hyperas) (4.7.7)\n",
      "Requirement already satisfied: ipywidgets in /usr/local/anaconda3/lib/python3.8/site-packages (from jupyter->hyperas) (7.5.1)\n",
      "Requirement already satisfied: ipykernel in /usr/local/anaconda3/lib/python3.8/site-packages (from jupyter->hyperas) (5.3.4)\n",
      "Requirement already satisfied: future in /usr/local/anaconda3/lib/python3.8/site-packages (from hyperopt->hyperas) (0.18.2)\n",
      "Requirement already satisfied: tqdm in /usr/local/anaconda3/lib/python3.8/site-packages (from hyperopt->hyperas) (4.50.2)\n",
      "Requirement already satisfied: six in /usr/local/anaconda3/lib/python3.8/site-packages (from hyperopt->hyperas) (1.15.0)\n",
      "Requirement already satisfied: networkx>=2.2 in /usr/local/anaconda3/lib/python3.8/site-packages (from hyperopt->hyperas) (2.5)\n",
      "Requirement already satisfied: cloudpickle in /usr/local/anaconda3/lib/python3.8/site-packages (from hyperopt->hyperas) (1.6.0)\n",
      "Requirement already satisfied: MarkupSafe>=0.23 in /usr/local/anaconda3/lib/python3.8/site-packages (from jinja2>=2.4->nbconvert->hyperas) (1.1.1)\n",
      "Requirement already satisfied: packaging in /usr/local/anaconda3/lib/python3.8/site-packages (from bleach->nbconvert->hyperas) (20.4)\n",
      "Requirement already satisfied: webencodings in /usr/local/anaconda3/lib/python3.8/site-packages (from bleach->nbconvert->hyperas) (0.5.1)\n",
      "Requirement already satisfied: jupyter-client>=6.1.5 in /usr/local/anaconda3/lib/python3.8/site-packages (from nbclient<0.6.0,>=0.5.0->nbconvert->hyperas) (6.1.7)\n",
      "Requirement already satisfied: nest-asyncio in /usr/local/anaconda3/lib/python3.8/site-packages (from nbclient<0.6.0,>=0.5.0->nbconvert->hyperas) (1.4.2)\n",
      "Requirement already satisfied: async-generator in /usr/local/anaconda3/lib/python3.8/site-packages (from nbclient<0.6.0,>=0.5.0->nbconvert->hyperas) (1.10)\n",
      "Requirement already satisfied: pyrsistent>=0.14.0 in /usr/local/anaconda3/lib/python3.8/site-packages (from jsonschema!=2.5.0,>=2.4->nbformat->hyperas) (0.17.3)\n",
      "Requirement already satisfied: attrs>=17.4.0 in /usr/local/anaconda3/lib/python3.8/site-packages (from jsonschema!=2.5.0,>=2.4->nbformat->hyperas) (20.3.0)\n",
      "Requirement already satisfied: setuptools in /usr/local/anaconda3/lib/python3.8/site-packages (from jsonschema!=2.5.0,>=2.4->nbformat->hyperas) (50.3.1.post20201107)\n",
      "Requirement already satisfied: argon2-cffi in /usr/local/anaconda3/lib/python3.8/site-packages (from notebook->jupyter->hyperas) (20.1.0)\n",
      "Requirement already satisfied: terminado>=0.8.3 in /usr/local/anaconda3/lib/python3.8/site-packages (from notebook->jupyter->hyperas) (0.9.1)\n",
      "Requirement already satisfied: pyzmq>=17 in /usr/local/anaconda3/lib/python3.8/site-packages (from notebook->jupyter->hyperas) (19.0.2)\n",
      "Requirement already satisfied: prometheus-client in /usr/local/anaconda3/lib/python3.8/site-packages (from notebook->jupyter->hyperas) (0.8.0)\n",
      "Requirement already satisfied: Send2Trash in /usr/local/anaconda3/lib/python3.8/site-packages (from notebook->jupyter->hyperas) (1.5.0)\n",
      "Requirement already satisfied: tornado>=5.0 in /usr/local/anaconda3/lib/python3.8/site-packages (from notebook->jupyter->hyperas) (6.0.4)\n",
      "Requirement already satisfied: prompt-toolkit!=3.0.0,!=3.0.1,<3.1.0,>=2.0.0 in /usr/local/anaconda3/lib/python3.8/site-packages (from jupyter-console->jupyter->hyperas) (3.0.8)\n",
      "Requirement already satisfied: ipython in /usr/local/anaconda3/lib/python3.8/site-packages (from jupyter-console->jupyter->hyperas) (7.19.0)\n",
      "Requirement already satisfied: qtpy in /usr/local/anaconda3/lib/python3.8/site-packages (from qtconsole->jupyter->hyperas) (1.9.0)\n",
      "Requirement already satisfied: widgetsnbextension~=3.5.0 in /usr/local/anaconda3/lib/python3.8/site-packages (from ipywidgets->jupyter->hyperas) (3.5.1)\n",
      "Requirement already satisfied: appnope; platform_system == \"Darwin\" in /usr/local/anaconda3/lib/python3.8/site-packages (from ipykernel->jupyter->hyperas) (0.1.0)\n",
      "Requirement already satisfied: decorator>=4.3.0 in /usr/local/anaconda3/lib/python3.8/site-packages (from networkx>=2.2->hyperopt->hyperas) (4.4.2)\n",
      "Requirement already satisfied: pyparsing>=2.0.2 in /usr/local/anaconda3/lib/python3.8/site-packages (from packaging->bleach->nbconvert->hyperas) (2.4.7)\n",
      "Requirement already satisfied: python-dateutil>=2.1 in /usr/local/anaconda3/lib/python3.8/site-packages (from jupyter-client>=6.1.5->nbclient<0.6.0,>=0.5.0->nbconvert->hyperas) (2.8.1)\n",
      "Requirement already satisfied: cffi>=1.0.0 in /usr/local/anaconda3/lib/python3.8/site-packages (from argon2-cffi->notebook->jupyter->hyperas) (1.14.3)\n",
      "Requirement already satisfied: ptyprocess in /usr/local/anaconda3/lib/python3.8/site-packages (from terminado>=0.8.3->notebook->jupyter->hyperas) (0.6.0)\n",
      "Requirement already satisfied: wcwidth in /usr/local/anaconda3/lib/python3.8/site-packages (from prompt-toolkit!=3.0.0,!=3.0.1,<3.1.0,>=2.0.0->jupyter-console->jupyter->hyperas) (0.2.5)\n",
      "Requirement already satisfied: backcall in /usr/local/anaconda3/lib/python3.8/site-packages (from ipython->jupyter-console->jupyter->hyperas) (0.2.0)\n",
      "Requirement already satisfied: pexpect>4.3; sys_platform != \"win32\" in /usr/local/anaconda3/lib/python3.8/site-packages (from ipython->jupyter-console->jupyter->hyperas) (4.8.0)\n",
      "Requirement already satisfied: jedi>=0.10 in /usr/local/anaconda3/lib/python3.8/site-packages (from ipython->jupyter-console->jupyter->hyperas) (0.17.1)\n"
     ]
    },
    {
     "name": "stdout",
     "output_type": "stream",
     "text": [
      "Requirement already satisfied: pickleshare in /usr/local/anaconda3/lib/python3.8/site-packages (from ipython->jupyter-console->jupyter->hyperas) (0.7.5)\n",
      "Requirement already satisfied: pycparser in /usr/local/anaconda3/lib/python3.8/site-packages (from cffi>=1.0.0->argon2-cffi->notebook->jupyter->hyperas) (2.20)\n",
      "Requirement already satisfied: parso<0.8.0,>=0.7.0 in /usr/local/anaconda3/lib/python3.8/site-packages (from jedi>=0.10->ipython->jupyter-console->jupyter->hyperas) (0.7.0)\n",
      "Installing collected packages: hyperas\n",
      "Successfully installed hyperas-0.4.1\n"
     ]
    }
   ],
   "source": [
    "!pip install hyperas"
   ]
  },
  {
   "cell_type": "code",
   "execution_count": 4,
   "metadata": {
    "executionInfo": {
     "elapsed": 3307,
     "status": "ok",
     "timestamp": 1614457252739,
     "user": {
      "displayName": "meenakshi meyyammai",
      "photoUrl": "https://lh3.googleusercontent.com/a-/AOh14GgqOL6XSRGNDaYfV_dgRFMRv7m8ABRr31ql5RGa4g=s64",
      "userId": "11768016833716445346"
     },
     "user_tz": -330
    },
    "id": "bFZlqV40JZ9X"
   },
   "outputs": [],
   "source": [
    "# Import Statements\n",
    "\n",
    "from hyperopt import Trials, STATUS_OK, tpe\n",
    "from hyperas import optim\n",
    "from hyperas.distributions import choice, uniform\n",
    "import tensorflow as tf\n",
    "from tensorflow import keras\n",
    "from tensorflow.keras.layers import Dense, Activation, Dropout\n",
    "from tensorflow.keras.optimizers import SGD, Adam, RMSprop\n",
    "from tensorflow.keras.models import Sequential\n",
    "from sklearn.model_selection import train_test_split\n",
    "import numpy as np\n",
    "from hyperas import optim\n",
    "from hyperas.distributions import choice, uniform\n"
   ]
  },
  {
   "cell_type": "code",
   "execution_count": 5,
   "metadata": {
    "executionInfo": {
     "elapsed": 851,
     "status": "ok",
     "timestamp": 1614457291165,
     "user": {
      "displayName": "meenakshi meyyammai",
      "photoUrl": "https://lh3.googleusercontent.com/a-/AOh14GgqOL6XSRGNDaYfV_dgRFMRv7m8ABRr31ql5RGa4g=s64",
      "userId": "11768016833716445346"
     },
     "user_tz": -330
    },
    "id": "uIDQ63CJJp5F"
   },
   "outputs": [],
   "source": [
    "def data():\n",
    "    (X_train, y_train), (X_test, y_test) = tf.keras.datasets.fashion_mnist.load_data()\n",
    "    X_train, X_val, y_train, y_val = train_test_split(X_train,   y_train, test_size=0.2, random_state=12345)\n",
    "    X_train = X_train.reshape(48000, 784)\n",
    "    X_val = X_val.reshape(12000, 784)\n",
    "    X_train = X_train.astype('float32')\n",
    "    X_val = X_val.astype('float32')\n",
    "    X_train /= 255\n",
    "    X_val /= 255\n",
    "    nb_classes = 10\n",
    "    Y_train = keras.utils.to_categorical(y_train, nb_classes)\n",
    "    Y_val = keras.utils.to_categorical(y_val, nb_classes)\n",
    "    return X_train, Y_train, X_val, Y_val\n",
    "#"
   ]
  },
  {
   "cell_type": "code",
   "execution_count": 6,
   "metadata": {
    "colab": {
     "base_uri": "https://localhost:8080/",
     "height": 242
    },
    "executionInfo": {
     "elapsed": 1536,
     "status": "error",
     "timestamp": 1614457554060,
     "user": {
      "displayName": "meenakshi meyyammai",
      "photoUrl": "https://lh3.googleusercontent.com/a-/AOh14GgqOL6XSRGNDaYfV_dgRFMRv7m8ABRr31ql5RGa4g=s64",
      "userId": "11768016833716445346"
     },
     "user_tz": -330
    },
    "id": "9NvH0AxwJz4I",
    "outputId": "aedfea14-3c30-4049-cf1a-7e3338217853"
   },
   "outputs": [
    {
     "ename": "FileNotFoundError",
     "evalue": "[Errno 2] No such file or directory: '/Users/apple/Development/trainings/ml_training_notebooks/hyperopt/<ipython-input-6-5ad2f94c8c43>'",
     "output_type": "error",
     "traceback": [
      "\u001b[0;31m----------------------------------------------\u001b[0m",
      "\u001b[0;31mFileNotFoundError\u001b[0mTraceback (most recent call last)",
      "\u001b[0;32m<ipython-input-6-5ad2f94c8c43>\u001b[0m in \u001b[0;36m<module>\u001b[0;34m\u001b[0m\n\u001b[1;32m     37\u001b[0m \u001b[0;34m\u001b[0m\u001b[0m\n\u001b[1;32m     38\u001b[0m \u001b[0mX_train\u001b[0m\u001b[0;34m,\u001b[0m \u001b[0mY_train\u001b[0m\u001b[0;34m,\u001b[0m \u001b[0mX_val\u001b[0m\u001b[0;34m,\u001b[0m \u001b[0mY_val\u001b[0m \u001b[0;34m=\u001b[0m \u001b[0mdata\u001b[0m\u001b[0;34m(\u001b[0m\u001b[0;34m)\u001b[0m\u001b[0;34m\u001b[0m\u001b[0;34m\u001b[0m\u001b[0m\n\u001b[0;32m---> 39\u001b[0;31m best_run, best_model = optim.minimize(model=model,\n\u001b[0m\u001b[1;32m     40\u001b[0m                                       \u001b[0mdata\u001b[0m\u001b[0;34m=\u001b[0m\u001b[0mdata\u001b[0m\u001b[0;34m,\u001b[0m\u001b[0;34m\u001b[0m\u001b[0;34m\u001b[0m\u001b[0m\n\u001b[1;32m     41\u001b[0m                                       \u001b[0malgo\u001b[0m\u001b[0;34m=\u001b[0m\u001b[0mtpe\u001b[0m\u001b[0;34m.\u001b[0m\u001b[0msuggest\u001b[0m\u001b[0;34m,\u001b[0m\u001b[0;34m\u001b[0m\u001b[0;34m\u001b[0m\u001b[0m\n",
      "\u001b[0;32m/usr/local/anaconda3/lib/python3.8/site-packages/hyperas/optim.py\u001b[0m in \u001b[0;36mminimize\u001b[0;34m(model, data, algo, max_evals, trials, functions, rseed, notebook_name, verbose, eval_space, return_space, keep_temp)\u001b[0m\n\u001b[1;32m     57\u001b[0m     \u001b[0mIf\u001b[0m\u001b[0;31m \u001b[0m\u001b[0;31m`\u001b[0m\u001b[0mreturn_space\u001b[0m\u001b[0;31m`\u001b[0m \u001b[0;32mis\u001b[0m \u001b[0;32mTrue\u001b[0m\u001b[0;34m:\u001b[0m \u001b[0mThe\u001b[0m \u001b[0mpair\u001b[0m \u001b[0mof\u001b[0m \u001b[0mbest\u001b[0m \u001b[0mresult\u001b[0m \u001b[0;32mand\u001b[0m \u001b[0mcorresponding\u001b[0m \u001b[0mkeras\u001b[0m \u001b[0mmodel\u001b[0m\u001b[0;34m,\u001b[0m \u001b[0;32mand\u001b[0m \u001b[0mthe\u001b[0m \u001b[0mhyperopt\u001b[0m \u001b[0msearch\u001b[0m \u001b[0mspace\u001b[0m\u001b[0;34m\u001b[0m\u001b[0;34m\u001b[0m\u001b[0m\n\u001b[1;32m     58\u001b[0m     \"\"\"\n\u001b[0;32m---> 59\u001b[0;31m     best_run, space = base_minimizer(model=model,\n\u001b[0m\u001b[1;32m     60\u001b[0m                                      \u001b[0mdata\u001b[0m\u001b[0;34m=\u001b[0m\u001b[0mdata\u001b[0m\u001b[0;34m,\u001b[0m\u001b[0;34m\u001b[0m\u001b[0;34m\u001b[0m\u001b[0m\n\u001b[1;32m     61\u001b[0m                                      \u001b[0mfunctions\u001b[0m\u001b[0;34m=\u001b[0m\u001b[0mfunctions\u001b[0m\u001b[0;34m,\u001b[0m\u001b[0;34m\u001b[0m\u001b[0;34m\u001b[0m\u001b[0m\n",
      "\u001b[0;32m/usr/local/anaconda3/lib/python3.8/site-packages/hyperas/optim.py\u001b[0m in \u001b[0;36mbase_minimizer\u001b[0;34m(model, data, functions, algo, max_evals, trials, rseed, full_model_string, notebook_name, verbose, stack, keep_temp)\u001b[0m\n\u001b[1;32m     96\u001b[0m         \u001b[0mmodel_str\u001b[0m \u001b[0;34m=\u001b[0m \u001b[0mfull_model_string\u001b[0m\u001b[0;34m\u001b[0m\u001b[0;34m\u001b[0m\u001b[0m\n\u001b[1;32m     97\u001b[0m     \u001b[0;32melse\u001b[0m\u001b[0;34m:\u001b[0m\u001b[0;34m\u001b[0m\u001b[0;34m\u001b[0m\u001b[0m\n\u001b[0;32m---> 98\u001b[0;31m         \u001b[0mmodel_str\u001b[0m \u001b[0;34m=\u001b[0m \u001b[0mget_hyperopt_model_string\u001b[0m\u001b[0;34m(\u001b[0m\u001b[0mmodel\u001b[0m\u001b[0;34m,\u001b[0m \u001b[0mdata\u001b[0m\u001b[0;34m,\u001b[0m \u001b[0mfunctions\u001b[0m\u001b[0;34m,\u001b[0m \u001b[0mnotebook_name\u001b[0m\u001b[0;34m,\u001b[0m \u001b[0mverbose\u001b[0m\u001b[0;34m,\u001b[0m \u001b[0mstack\u001b[0m\u001b[0;34m)\u001b[0m\u001b[0;34m\u001b[0m\u001b[0;34m\u001b[0m\u001b[0m\n\u001b[0m\u001b[1;32m     99\u001b[0m     \u001b[0mtemp_file\u001b[0m \u001b[0;34m=\u001b[0m \u001b[0;34m'./temp_model.py'\u001b[0m\u001b[0;34m\u001b[0m\u001b[0;34m\u001b[0m\u001b[0m\n\u001b[1;32m    100\u001b[0m     \u001b[0mwrite_temp_files\u001b[0m\u001b[0;34m(\u001b[0m\u001b[0mmodel_str\u001b[0m\u001b[0;34m,\u001b[0m \u001b[0mtemp_file\u001b[0m\u001b[0;34m)\u001b[0m\u001b[0;34m\u001b[0m\u001b[0;34m\u001b[0m\u001b[0m\n",
      "\u001b[0;32m/usr/local/anaconda3/lib/python3.8/site-packages/hyperas/optim.py\u001b[0m in \u001b[0;36mget_hyperopt_model_string\u001b[0;34m(model, data, functions, notebook_name, verbose, stack)\u001b[0m\n\u001b[1;32m    183\u001b[0m     \u001b[0;32melse\u001b[0m\u001b[0;34m:\u001b[0m\u001b[0;34m\u001b[0m\u001b[0;34m\u001b[0m\u001b[0m\n\u001b[1;32m    184\u001b[0m         \u001b[0mcalling_script_file\u001b[0m \u001b[0;34m=\u001b[0m \u001b[0mos\u001b[0m\u001b[0;34m.\u001b[0m\u001b[0mpath\u001b[0m\u001b[0;34m.\u001b[0m\u001b[0mabspath\u001b[0m\u001b[0;34m(\u001b[0m\u001b[0minspect\u001b[0m\u001b[0;34m.\u001b[0m\u001b[0mstack\u001b[0m\u001b[0;34m(\u001b[0m\u001b[0;34m)\u001b[0m\u001b[0;34m[\u001b[0m\u001b[0mstack\u001b[0m\u001b[0;34m]\u001b[0m\u001b[0;34m[\u001b[0m\u001b[0;36m1\u001b[0m\u001b[0;34m]\u001b[0m\u001b[0;34m)\u001b[0m\u001b[0;34m\u001b[0m\u001b[0;34m\u001b[0m\u001b[0m\n\u001b[0;32m--> 185\u001b[0;31m         \u001b[0;32mwith\u001b[0m \u001b[0mopen\u001b[0m\u001b[0;34m(\u001b[0m\u001b[0mcalling_script_file\u001b[0m\u001b[0;34m,\u001b[0m \u001b[0;34m'r'\u001b[0m\u001b[0;34m)\u001b[0m \u001b[0;32mas\u001b[0m \u001b[0mf\u001b[0m\u001b[0;34m:\u001b[0m\u001b[0;34m\u001b[0m\u001b[0;34m\u001b[0m\u001b[0m\n\u001b[0m\u001b[1;32m    186\u001b[0m             \u001b[0msource\u001b[0m \u001b[0;34m=\u001b[0m \u001b[0mf\u001b[0m\u001b[0;34m.\u001b[0m\u001b[0mread\u001b[0m\u001b[0;34m(\u001b[0m\u001b[0;34m)\u001b[0m\u001b[0;34m\u001b[0m\u001b[0;34m\u001b[0m\u001b[0m\n\u001b[1;32m    187\u001b[0m \u001b[0;34m\u001b[0m\u001b[0m\n",
      "\u001b[0;31mFileNotFoundError\u001b[0m: [Errno 2] No such file or directory: '/Users/apple/Development/trainings/ml_training_notebooks/hyperopt/<ipython-input-6-5ad2f94c8c43>'"
     ]
    }
   ],
   "source": [
    "\n",
    "def model(X_train, Y_train, X_val, Y_val):\n",
    "\n",
    "    model = Sequential()\n",
    "    # choose between any hyper parameter\n",
    "    model.add(Dense({{choice([128, 256, 512, 1024])}}, input_shape=(784,)))\n",
    "    model.add(Activation({{choice(['relu', 'sigmoid'])}}))\n",
    "    model.add(Dropout({{uniform(0, 1)}}))\n",
    "    model.add(Dense({{choice([128, 256, 512, 1024])}}))\n",
    "    model.add(Activation({{choice(['relu', 'sigmoid'])}}))\n",
    "    model.add(Dropout({{uniform(0, 1)}}))\n",
    "\n",
    "\n",
    "\n",
    "    model.add(Dense(10))\n",
    "    model.add(Activation('softmax'))\n",
    "    adam = keras.optimizers.Adam(lr={{choice([10**-3, 10**-2, 10**-1])}})\n",
    "    rmsprop = keras.optimizers.RMSprop(lr={{choice([10**-3, 10**-2, 10**-1])}})\n",
    "    sgd = keras.optimizers.SGD(lr={{choice([10**-3, 10**-2, 10**-1])}})\n",
    "\n",
    "    choiceval = {{choice(['adam', 'sgd', 'rmsprop'])}}\n",
    "    if choiceval == 'adam':\n",
    "        optim = adam\n",
    "    elif choiceval == 'rmsprop':\n",
    "        optim = rmsprop\n",
    "    else:\n",
    "        optim = sgd\n",
    "\n",
    "    model.compile(loss='categorical_crossentropy', metrics=['accuracy'],optimizer=optim)\n",
    "    model.fit(X_train, Y_train,\n",
    "              batch_size={{choice([128,256,512])}},\n",
    "              epochs=20,\n",
    "              verbose=2,\n",
    "              validation_data=(X_val, Y_val))\n",
    "    score, acc = model.evaluate(X_val, Y_val, verbose=0)\n",
    "    print('Test accuracy:', acc)\n",
    "    return {'loss': -acc, 'status': STATUS_OK, 'model': model}\n",
    "\n",
    "X_train, Y_train, X_val, Y_val = data()\n",
    "best_run, best_model = optim.minimize(model=model,\n",
    "                                      data=data,\n",
    "                                      algo=tpe.suggest,\n",
    "                                      max_evals=30,\n",
    "                                      trials=Trials(),\n",
    "                                      )"
   ]
  },
  {
   "cell_type": "code",
   "execution_count": 6,
   "metadata": {
    "colab": {
     "base_uri": "https://localhost:8080/",
     "height": 131
    },
    "executionInfo": {
     "elapsed": 784,
     "status": "error",
     "timestamp": 1614457315887,
     "user": {
      "displayName": "meenakshi meyyammai",
      "photoUrl": "https://lh3.googleusercontent.com/a-/AOh14GgqOL6XSRGNDaYfV_dgRFMRv7m8ABRr31ql5RGa4g=s64",
      "userId": "11768016833716445346"
     },
     "user_tz": -330
    },
    "id": "LHLpKL8tJ3_V",
    "outputId": "41e618dc-a7dd-4ba8-a906-e6b25c72a48d"
   },
   "outputs": [
    {
     "ename": "IndentationError",
     "evalue": "ignored",
     "output_type": "error",
     "traceback": [
      "\u001b[0;36m  File \u001b[0;32m\"<ipython-input-6-0eaf8b062f29>\"\u001b[0;36m, line \u001b[0;32m2\u001b[0m\n\u001b[0;31m    model.compile(loss='categorical_crossentropy', metrics=['accuracy'],optimizer=optim)\u001b[0m\n\u001b[0m    ^\u001b[0m\n\u001b[0;31mIndentationError\u001b[0m\u001b[0;31m:\u001b[0m unexpected indent\n"
     ]
    }
   ],
   "source": []
  },
  {
   "cell_type": "code",
   "execution_count": null,
   "metadata": {
    "id": "t1Vl4ApvJ57j"
   },
   "outputs": [],
   "source": []
  }
 ],
 "metadata": {
  "colab": {
   "authorship_tag": "ABX9TyNQoBAMDUnfPpenehnNPQjl",
   "name": "fashion_hyperopt.ipynb",
   "provenance": []
  },
  "kernelspec": {
   "display_name": "Python 3",
   "language": "python",
   "name": "python3"
  },
  "language_info": {
   "codemirror_mode": {
    "name": "ipython",
    "version": 3
   },
   "file_extension": ".py",
   "mimetype": "text/x-python",
   "name": "python",
   "nbconvert_exporter": "python",
   "pygments_lexer": "ipython3",
   "version": "3.8.5"
  }
 },
 "nbformat": 4,
 "nbformat_minor": 1
}
