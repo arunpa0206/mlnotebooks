{
 "cells": [
  {
   "cell_type": "code",
   "execution_count": 1,
   "metadata": {
    "colab": {},
    "colab_type": "code",
    "id": "bE4GWpnUIODE"
   },
   "outputs": [
    {
     "name": "stderr",
     "output_type": "stream",
     "text": [
      "Using TensorFlow backend.\n"
     ]
    }
   ],
   "source": [
    "from keras.layers import SimpleRNN, Embedding, Dense, LSTM\n",
    "from keras.models import Sequential\n",
    "\n",
    "import pandas as pd\n",
    "import numpy as np\n",
    "import matplotlib.pyplot as plt\n",
    "%matplotlib inline\n",
    "import seaborn as sns; sns.set()"
   ]
  },
  {
   "cell_type": "code",
   "execution_count": 2,
   "metadata": {
    "colab": {},
    "colab_type": "code",
    "id": "NwUIZDagOd8a"
   },
   "outputs": [],
   "source": [
    "  data = pd.read_csv(\"SPAM text message 20170820 - Data.csv\")"
   ]
  },
  {
   "cell_type": "code",
   "execution_count": 3,
   "metadata": {
    "colab": {
     "base_uri": "https://localhost:8080/",
     "height": 50
    },
    "colab_type": "code",
    "id": "_4KB1lG3mSyd",
    "outputId": "6a1e1790-eaf2-45e9-ac1a-41c011cc54e3"
   },
   "outputs": [
    {
     "name": "stdout",
     "output_type": "stream",
     "text": [
      "number of texts : 5572\n",
      "number of labels:  5572\n"
     ]
    }
   ],
   "source": [
    "texts = []\n",
    "labels = []\n",
    "for i, label in enumerate(data['Category']):\n",
    "    texts.append(data['Message'][i])\n",
    "    if label == 'ham':\n",
    "        labels.append(0)\n",
    "    else:\n",
    "        labels.append(1)\n",
    "\n",
    "texts = np.asarray(texts)\n",
    "labels = np.asarray(labels)\n",
    "\n",
    "\n",
    "print(\"number of texts :\" , len(texts))\n",
    "print(\"number of labels: \", len(labels))"
   ]
  },
  {
   "cell_type": "code",
   "execution_count": 4,
   "metadata": {
    "colab": {
     "base_uri": "https://localhost:8080/",
     "height": 84
    },
    "colab_type": "code",
    "id": "QBhacmLnmVpm",
    "outputId": "07098872-c705-4274-c090-19df983ff739"
   },
   "outputs": [
    {
     "name": "stdout",
     "output_type": "stream",
     "text": [
      "True\n",
      "The number of training 4457, validation 1115 \n",
      "Found 9004 unique words: \n",
      "data shape:  (5572, 500)\n"
     ]
    }
   ],
   "source": [
    "from tensorflow.keras.layers import SimpleRNN, Embedding, Dense, LSTM\n",
    "from tensorflow.keras.models import Sequential\n",
    "\n",
    "from keras.preprocessing.text import Tokenizer\n",
    "from keras.preprocessing.sequence import pad_sequences\n",
    "\n",
    "# number of words used as features\n",
    "max_features = 10000\n",
    "# cut off the words after seeing 500 words in each document(email)\n",
    "maxlen = 500\n",
    "\n",
    "\n",
    "# we will use 80% of data as training, 20% as validation data\n",
    "training_samples = int(5572 * .8)\n",
    "validation_samples = int(5572 - training_samples)\n",
    "# sanity check\n",
    "print(len(texts) == (training_samples + validation_samples))\n",
    "print(\"The number of training {0}, validation {1} \".format(training_samples, validation_samples))\n",
    "\n",
    "tokenizer = Tokenizer()\n",
    "tokenizer.fit_on_texts(texts) \n",
    "sequences = tokenizer.texts_to_sequences(texts)\n",
    "\n",
    "word_index = tokenizer.word_index\n",
    "print(\"Found {0} unique words: \".format(len(word_index)))\n",
    "\n",
    "data = pad_sequences(sequences, maxlen=maxlen)\n",
    "\n",
    "print(\"data shape: \", data.shape)\n",
    "\n",
    "np.random.seed(42)\n",
    "# shuffle data\n",
    "indices = np.arange(data.shape[0])\n",
    "np.random.shuffle(indices)\n",
    "data = data[indices]\n",
    "labels = labels[indices]\n",
    "\n",
    "\n",
    "texts_train = data[:training_samples]\n",
    "y_train = labels[:training_samples]\n",
    "texts_test = data[training_samples:]\n",
    "y_test = labels[training_samples:]"
   ]
  },
  {
   "cell_type": "code",
   "execution_count": 5,
   "metadata": {
    "colab": {
     "base_uri": "https://localhost:8080/",
     "height": 877
    },
    "colab_type": "code",
    "id": "6wUzbbO-mazu",
    "outputId": "df0e5539-d619-41cb-f414-05644eb617ad"
   },
   "outputs": [
    {
     "name": "stdout",
     "output_type": "stream",
     "text": [
      "Epoch 1/10\n",
      "60/60 [==============================] - 5s 90ms/step - loss: 0.4141 - acc: 0.8454 - val_loss: 0.4704 - val_acc: 0.8857\n",
      "Epoch 2/10\n",
      "60/60 [==============================] - 5s 83ms/step - loss: 0.2650 - acc: 0.9456 - val_loss: 0.1420 - val_acc: 0.9664\n",
      "Epoch 3/10\n",
      "60/60 [==============================] - 5s 83ms/step - loss: 0.0864 - acc: 0.9823 - val_loss: 0.1455 - val_acc: 0.9518\n",
      "Epoch 4/10\n",
      "60/60 [==============================] - 5s 83ms/step - loss: 0.0419 - acc: 0.9905 - val_loss: 0.0840 - val_acc: 0.9697\n",
      "Epoch 5/10\n",
      "60/60 [==============================] - 5s 82ms/step - loss: 0.0270 - acc: 0.9930 - val_loss: 0.0661 - val_acc: 0.9787\n",
      "Epoch 6/10\n",
      "60/60 [==============================] - 5s 83ms/step - loss: 0.0157 - acc: 0.9958 - val_loss: 0.0501 - val_acc: 0.9843\n",
      "Epoch 7/10\n",
      "60/60 [==============================] - 5s 83ms/step - loss: 0.0340 - acc: 0.9854 - val_loss: 0.0700 - val_acc: 0.9821\n",
      "Epoch 8/10\n",
      "60/60 [==============================] - 5s 82ms/step - loss: 0.0172 - acc: 0.9941 - val_loss: 0.0611 - val_acc: 0.9821\n",
      "Epoch 9/10\n",
      "60/60 [==============================] - 5s 88ms/step - loss: 0.0318 - acc: 0.9891 - val_loss: 0.0709 - val_acc: 0.9753\n",
      "Epoch 10/10\n",
      "60/60 [==============================] - 5s 86ms/step - loss: 0.0095 - acc: 0.9975 - val_loss: 0.0675 - val_acc: 0.9809\n"
     ]
    }
   ],
   "source": [
    "model = Sequential()\n",
    "model.add(Embedding(max_features, 32))\n",
    "model.add(SimpleRNN(32))\n",
    "model.add(Dense(1, activation='sigmoid'))\n",
    "\n",
    "model.compile(optimizer='rmsprop', loss='binary_crossentropy', metrics=['acc'])\n",
    "history_rnn = model.fit(texts_train, y_train, epochs=10, batch_size=60, validation_split=0.2)"
   ]
  },
  {
   "cell_type": "code",
   "execution_count": 6,
   "metadata": {
    "colab": {
     "base_uri": "https://localhost:8080/",
     "height": 551
    },
    "colab_type": "code",
    "id": "viR20QhcmfNi",
    "outputId": "198f2d09-10c4-41f0-fc78-9cdda9388daa"
   },
   "outputs": [
    {
     "data": {
      "image/png": "[encoded data removed]",
      "text/plain": [
       "<Figure size 432x288 with 1 Axes>"
      ]
     },
     "metadata": {
      "needs_background": "light"
     },
     "output_type": "display_data"
    },
    {
     "data": {
      "image/png": "[encoded data removed]",
      "text/plain": [
       "<Figure size 432x288 with 1 Axes>"
      ]
     },
     "metadata": {
      "needs_background": "light"
     },
     "output_type": "display_data"
    }
   ],
   "source": [
    "acc = history_rnn.history['acc']\n",
    "val_acc = history_rnn.history['val_acc']\n",
    "loss = history_rnn.history['loss']\n",
    "val_loss = history_rnn.history['val_loss']\n",
    "epochs = range(len(acc))\n",
    "plt.plot(epochs, acc, '-', color='orange', label='training acc')\n",
    "plt.plot(epochs, val_acc, '-', color='blue', label='validation acc')\n",
    "plt.title('Training and validation accuracy')\n",
    "plt.legend()\n",
    "plt.show()\n",
    "\n",
    "plt.plot(epochs, loss, '-', color='orange', label='training acc')\n",
    "plt.plot(epochs, val_loss,  '-', color='blue', label='validation acc')\n",
    "plt.title('Training and validation loss')\n",
    "plt.legend()\n",
    "plt.show()"
   ]
  },
  {
   "cell_type": "code",
   "execution_count": 7,
   "metadata": {
    "colab": {
     "base_uri": "https://localhost:8080/",
     "height": 84
    },
    "colab_type": "code",
    "id": "iZwqfEw-m3lC",
    "outputId": "bbf7d0a4-257b-4f39-c68d-a85e197b8f51"
   },
   "outputs": [
    {
     "name": "stdout",
     "output_type": "stream",
     "text": [
      "WARNING:tensorflow:From <ipython-input-7-6ce71c72a99e>:1: Sequential.predict_classes (from tensorflow.python.keras.engine.sequential) is deprecated and will be removed after 2021-01-01.\n",
      "Instructions for updating:\n",
      "Please use instead:* `np.argmax(model.predict(x), axis=-1)`,   if your model does multi-class classification   (e.g. if it uses a `softmax` last-layer activation).* `(model.predict(x) > 0.5).astype(\"int32\")`,   if your model does binary classification   (e.g. if it uses a `sigmoid` last-layer activation).\n",
      "35/35 [==============================] - 0s 14ms/step - loss: 0.0722 - acc: 0.9803\n",
      "WARNING:tensorflow:From <ipython-input-7-6ce71c72a99e>:3: Sequential.predict_proba (from tensorflow.python.keras.engine.sequential) is deprecated and will be removed after 2021-01-01.\n",
      "Instructions for updating:\n",
      "Please use `model.predict()` instead.\n",
      "Test loss is 0.07 accuracy is 0.98  \n",
      "[[958  19]\n",
      " [  3 135]]\n"
     ]
    }
   ],
   "source": [
    "pred = model.predict_classes(texts_test)\n",
    "acc = model.evaluate(texts_test, y_test)\n",
    "proba_rnn = model.predict_proba(texts_test)\n",
    "from sklearn.metrics import confusion_matrix\n",
    "print(\"Test loss is {0:.2f} accuracy is {1:.2f}  \".format(acc[0],acc[1]))\n",
    "print(confusion_matrix(pred, y_test))"
   ]
  },
  {
   "cell_type": "code",
   "execution_count": null,
   "metadata": {
    "colab": {
     "base_uri": "https://localhost:8080/",
     "height": 370
    },
    "colab_type": "code",
    "id": "3bhFTYh5m7wu",
    "outputId": "2d8910ef-c787-4837-9958-c3660db5e35f"
   },
   "outputs": [
    {
     "name": "stdout",
     "output_type": "stream",
     "text": [
      "Epoch 1/10\n",
      "60/60 [==============================] - 9s 156ms/step - loss: 0.3064 - acc: 0.8785 - val_loss: 0.1497 - val_acc: 0.9529\n",
      "Epoch 2/10\n",
      "60/60 [==============================] - 9s 147ms/step - loss: 0.1048 - acc: 0.9778 - val_loss: 0.0711 - val_acc: 0.9854\n",
      "Epoch 3/10\n",
      "60/60 [==============================] - 10s 163ms/step - loss: 0.0532 - acc: 0.9893 - val_loss: 0.0462 - val_acc: 0.9865\n",
      "Epoch 4/10\n",
      "60/60 [==============================] - 12s 201ms/step - loss: 0.0303 - acc: 0.9933 - val_loss: 0.0452 - val_acc: 0.9843\n",
      "Epoch 5/10\n",
      "27/60 [============>.................] - ETA: 5s - loss: 0.0206 - acc: 0.9963"
     ]
    }
   ],
   "source": [
    "model = Sequential()\n",
    "model.add(Embedding(max_features, 32))\n",
    "model.add(LSTM(32))\n",
    "model.add(Dense(1, activation='sigmoid'))\n",
    "model.compile(optimizer='rmsprop', loss='binary_crossentropy', metrics=['acc'])\n",
    "history_ltsm = model.fit(texts_train, y_train, epochs=10, batch_size=60, validation_split=0.2)"
   ]
  },
  {
   "cell_type": "code",
   "execution_count": null,
   "metadata": {
    "colab": {
     "base_uri": "https://localhost:8080/",
     "height": 551
    },
    "colab_type": "code",
    "id": "7c_XpCwInA1K",
    "outputId": "f0511916-e14b-410c-9a55-3a1ba82fa733"
   },
   "outputs": [],
   "source": [
    "acc = history_ltsm.history['acc']\n",
    "val_acc = history_ltsm.history['val_acc']\n",
    "loss = history_ltsm.history['loss']\n",
    "val_loss = history_ltsm.history['val_loss']\n",
    "epochs = range(len(acc))\n",
    "plt.plot(epochs, acc, '-', color='orange', label='training acc')\n",
    "plt.plot(epochs, val_acc, '-', color='blue', label='validation acc')\n",
    "plt.title('Training and validation accuracy')\n",
    "plt.legend()\n",
    "plt.show()\n",
    "\n",
    "plt.plot(epochs, loss, '-', color='orange', label='training acc')\n",
    "plt.plot(epochs, val_loss,  '-', color='blue', label='validation acc')\n",
    "plt.title('Training and validation loss')\n",
    "plt.legend()\n",
    "plt.show()"
   ]
  },
  {
   "cell_type": "code",
   "execution_count": null,
   "metadata": {
    "colab": {
     "base_uri": "https://localhost:8080/",
     "height": 84
    },
    "colab_type": "code",
    "id": "p3cKgLnnnSAn",
    "outputId": "c834e609-dea7-4d06-9e48-f186aa99e21b"
   },
   "outputs": [],
   "source": [
    "pred = model.predict_classes(texts_test)\n",
    "acc = model.evaluate(texts_test, y_test)\n",
    "proba_ltsm = model.predict_proba(texts_test)\n",
    "from sklearn.metrics import confusion_matrix\n",
    "print(\"Test loss is {0:.2f} accuracy is {1:.2f}  \".format(acc[0],acc[1]))\n",
    "print(confusion_matrix(pred, y_test))"
   ]
  },
  {
   "cell_type": "code",
   "execution_count": 0,
   "metadata": {
    "colab": {},
    "colab_type": "code",
    "id": "nM459PvDoFhw"
   },
   "outputs": [],
   "source": []
  }
 ],
 "metadata": {
  "colab": {
   "name": "Untitled35.ipynb",
   "provenance": []
  },
  "kernelspec": {
   "display_name": "Python 3",
   "language": "python",
   "name": "python3"
  },
  "language_info": {
   "codemirror_mode": {
    "name": "ipython",
    "version": 3
   },
   "file_extension": ".py",
   "mimetype": "text/x-python",
   "name": "python",
   "nbconvert_exporter": "python",
   "pygments_lexer": "ipython3",
   "version": "3.7.4"
  }
 },
 "nbformat": 4,
 "nbformat_minor": 1
}
