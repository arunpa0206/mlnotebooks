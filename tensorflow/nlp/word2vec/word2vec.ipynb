{
 "cells": [
  {
   "cell_type": "code",
   "execution_count": 2,
   "metadata": {},
   "outputs": [
    {
     "name": "stdout",
     "output_type": "stream",
     "text": [
      "Collecting gensim\n",
      "  Downloading gensim-3.8.3-cp38-cp38-macosx_10_9_x86_64.whl (24.2 MB)\n",
      "\u001b[K     |████████████████████████████████| 24.2 MB 4.3 MB/s eta 0:00:01\n",
      "\u001b[?25hRequirement already satisfied: scipy>=0.18.1 in /usr/local/anaconda3/lib/python3.8/site-packages (from gensim) (1.5.2)\n",
      "Collecting smart-open>=1.8.1\n",
      "  Downloading smart_open-4.2.0.tar.gz (119 kB)\n",
      "\u001b[K     |████████████████████████████████| 119 kB 5.5 MB/s eta 0:00:01\n",
      "\u001b[?25hRequirement already satisfied: numpy>=1.11.3 in /usr/local/anaconda3/lib/python3.8/site-packages (from gensim) (1.19.2)\n",
      "Requirement already satisfied: six>=1.5.0 in /usr/local/anaconda3/lib/python3.8/site-packages (from gensim) (1.15.0)\n",
      "Building wheels for collected packages: smart-open\n",
      "  Building wheel for smart-open (setup.py) ... \u001b[?25ldone\n",
      "\u001b[?25h  Created wheel for smart-open: filename=smart_open-4.2.0-py3-none-any.whl size=109632 sha256=b080ce5f37330efee6b80313d5c019657dbef13dfd211f2e0a40aa8e2dc5a849\n",
      "  Stored in directory: /Users/apple/Library/Caches/pip/wheels/24/f6/ea/70a0761bdfaeacff66662751fe71920e25c4c43d97098a3886\n",
      "Successfully built smart-open\n",
      "Installing collected packages: smart-open, gensim\n",
      "Successfully installed gensim-3.8.3 smart-open-4.2.0\n"
     ]
    }
   ],
   "source": [
    "!pip install gensim"
   ]
  },
  {
   "cell_type": "code",
   "execution_count": 7,
   "metadata": {},
   "outputs": [
    {
     "name": "stdout",
     "output_type": "stream",
     "text": [
      "Word2Vec(vocab=14, size=100, alpha=0.025)\n"
     ]
    }
   ],
   "source": [
    "from gensim.models import Word2Vec\n",
    "# define training data\n",
    "sentences = [['this', 'is', 'the', 'first', 'sentence', 'for', 'word2vec'],\n",
    "\t\t\t['this', 'is', 'the', 'second', 'sentence'],\n",
    "\t\t\t['yet', 'another', 'sentence'],\n",
    "\t\t\t['one', 'more', 'sentence'],\n",
    "\t\t\t['and', 'the', 'final', 'sentence']]\n",
    "# train model\n",
    "model = Word2Vec(sentences, min_count=1)\n",
    "# summarize the loaded model\n",
    "print(model)"
   ]
  },
  {
   "cell_type": "code",
   "execution_count": 4,
   "metadata": {
    "colab": {
     "base_uri": "https://localhost:8080/"
    },
    "executionInfo": {
     "elapsed": 818,
     "status": "ok",
     "timestamp": 1613999032814,
     "user": {
      "displayName": "meenakshi meyyammai",
      "photoUrl": "https://lh3.googleusercontent.com/a-/AOh14GgqOL6XSRGNDaYfV_dgRFMRv7m8ABRr31ql5RGa4g=s64",
      "userId": "11768016833716445346"
     },
     "user_tz": -330
    },
    "id": "p1i0wPO21ohy",
    "outputId": "42fd4397-b8ec-4289-8077-8f69eef28f23"
   },
   "outputs": [
    {
     "name": "stdout",
     "output_type": "stream",
     "text": [
      "['this', 'is', 'the', 'first', 'sentence', 'for', 'word2vec', 'second', 'yet', 'another', 'one', 'more', 'and', 'final']\n",
      "[-2.8681026e-03 -3.9954409e-03 -2.3939812e-03  2.4108493e-03\n",
      " -4.7150603e-03 -1.2840306e-03 -2.5836318e-03 -2.3448442e-03\n",
      "  7.4851437e-04  9.6512935e-04 -4.8654974e-03  3.5732915e-03\n",
      "  2.3372632e-03  4.1356040e-03  4.3970463e-03 -1.0364990e-03\n",
      "  2.3847923e-03 -3.1707980e-04 -2.7086306e-03 -4.6727634e-03\n",
      " -2.0878604e-03 -1.5039926e-03  5.5917155e-04 -1.8237426e-04\n",
      "  4.3302123e-03 -2.0551081e-03  4.3517253e-03  4.4628170e-05\n",
      "  3.3698715e-03  3.8510857e-03  1.5824255e-04  1.6094091e-04\n",
      "  1.7628671e-03  2.0312695e-03  4.6572648e-03  3.5557960e-04\n",
      " -1.0538755e-03  3.3887743e-03 -4.9637221e-03  4.0550094e-05\n",
      " -3.2095411e-03 -1.2259738e-03  9.9550525e-04  7.1371673e-04\n",
      " -4.2542596e-03  2.3582636e-03  2.5595101e-03  3.8454232e-03\n",
      " -1.7440985e-03  3.4242929e-03  2.5632509e-03  6.0863036e-04\n",
      " -3.9989213e-03 -2.4504347e-03 -3.2278250e-03 -4.8669991e-03\n",
      " -2.4100966e-03  4.0111784e-03  9.6589781e-04  2.3055958e-04\n",
      " -4.7053592e-03  3.7092334e-04 -1.7643670e-03 -4.9295672e-03\n",
      " -9.5522287e-04  1.4320142e-03 -4.7933673e-03 -1.5770682e-03\n",
      " -3.8818694e-03  3.7091563e-03 -2.2324349e-03  6.8392401e-04\n",
      " -2.9930598e-03 -4.7818618e-03  1.2304275e-03  7.9371670e-04\n",
      "  3.8136283e-03 -2.9806450e-03  6.2313321e-04 -2.0421439e-04\n",
      "  7.6105073e-04 -1.9529255e-03 -3.2077322e-03  4.9891924e-03\n",
      " -2.4500156e-03 -3.6263946e-03 -2.4104798e-03 -2.5210269e-03\n",
      " -4.8043090e-03  2.1792466e-03  4.4997795e-03 -4.7217947e-03\n",
      " -2.3271432e-03 -1.8525743e-03 -8.4663625e-04 -3.5486664e-03\n",
      " -9.7266445e-04  3.2520241e-03 -1.9656136e-03 -4.8273336e-03]\n"
     ]
    },
    {
     "name": "stderr",
     "output_type": "stream",
     "text": [
      "<ipython-input-4-7b7d8b9a63e6>:5: DeprecationWarning: Call to deprecated `__getitem__` (Method will be removed in 4.0.0, use self.wv.__getitem__() instead).\n",
      "  print(model['sentence'])\n"
     ]
    }
   ],
   "source": [
    "\n",
    "# summarize vocabulary\n",
    "words = list(model.wv.vocab)\n",
    "print(words)\n",
    "# access vector for one word\n",
    "print(model['sentence'])\n"
   ]
  },
  {
   "cell_type": "code",
   "execution_count": 5,
   "metadata": {
    "colab": {
     "base_uri": "https://localhost:8080/"
    },
    "executionInfo": {
     "elapsed": 825,
     "status": "ok",
     "timestamp": 1613999039306,
     "user": {
      "displayName": "meenakshi meyyammai",
      "photoUrl": "https://lh3.googleusercontent.com/a-/AOh14GgqOL6XSRGNDaYfV_dgRFMRv7m8ABRr31ql5RGa4g=s64",
      "userId": "11768016833716445346"
     },
     "user_tz": -330
    },
    "id": "UypNiZiz1sZ5",
    "outputId": "030dbd72-a83b-41f0-fd95-ba96c9afab13"
   },
   "outputs": [
    {
     "name": "stdout",
     "output_type": "stream",
     "text": [
      "Word2Vec(vocab=14, size=100, alpha=0.025)\n"
     ]
    }
   ],
   "source": [
    "# save model\n",
    "model.save('model.bin')\n",
    "# load model\n",
    "new_model = Word2Vec.load('model.bin')\n",
    "print(new_model)\n",
    "\n"
   ]
  },
  {
   "cell_type": "code",
   "execution_count": 6,
   "metadata": {
    "colab": {
     "base_uri": "https://localhost:8080/",
     "height": 323
    },
    "executionInfo": {
     "elapsed": 1706,
     "status": "ok",
     "timestamp": 1613999041658,
     "user": {
      "displayName": "meenakshi meyyammai",
      "photoUrl": "https://lh3.googleusercontent.com/a-/AOh14GgqOL6XSRGNDaYfV_dgRFMRv7m8ABRr31ql5RGa4g=s64",
      "userId": "11768016833716445346"
     },
     "user_tz": -330
    },
    "id": "fY3A-x1b1t_D",
    "outputId": "38f31cd3-4806-48d1-bb74-85a565b451b4"
   },
   "outputs": [
    {
     "name": "stderr",
     "output_type": "stream",
     "text": [
      "<ipython-input-6-677c984a1ad5>:12: DeprecationWarning: Call to deprecated `__getitem__` (Method will be removed in 4.0.0, use self.wv.__getitem__() instead).\n",
      "  X = model[model.wv.vocab]\n"
     ]
    },
    {
     "data": {
      "image/png": "[encoded data removed]",
      "text/plain": [
       "<Figure size 432x288 with 1 Axes>"
      ]
     },
     "metadata": {
      "needs_background": "light"
     },
     "output_type": "display_data"
    }
   ],
   "source": [
    "\n",
    "from sklearn.decomposition import PCA\n",
    "from matplotlib import pyplot\n",
    "# define training data\n",
    "sentences = [['this', 'is', 'the', 'first', 'sentence', 'for', 'word2vec'],\n",
    "\t\t\t['this', 'is', 'the', 'second', 'sentence'],\n",
    "\t\t\t['yet', 'another', 'sentence'],\n",
    "\t\t\t['one', 'more', 'sentence'],\n",
    "\t\t\t['and', 'the', 'final', 'sentence']]\n",
    "# train model\n",
    "model = Word2Vec(sentences, min_count=1)\n",
    "# fit a 2d PCA model to the vectors\n",
    "X = model[model.wv.vocab]\n",
    "pca = PCA(n_components=2)\n",
    "result = pca.fit_transform(X)\n",
    "# create a scatter plot of the projection\n",
    "pyplot.scatter(result[:, 0], result[:, 1])\n",
    "words = list(model.wv.vocab)\n",
    "for i, word in enumerate(words):\n",
    "\tpyplot.annotate(word, xy=(result[i, 0], result[i, 1]))\n",
    "pyplot.show()"
   ]
  },
  {
   "cell_type": "code",
   "execution_count": null,
   "metadata": {
    "id": "AKBuDK2I1uWJ"
   },
   "outputs": [],
   "source": []
  }
 ],
 "metadata": {
  "colab": {
   "authorship_tag": "ABX9TyMD5/zZVdsd7LhwKbSHb7Rd",
   "name": "word2vec.ipynb",
   "provenance": []
  },
  "kernelspec": {
   "display_name": "Python 3",
   "language": "python",
   "name": "python3"
  },
  "language_info": {
   "codemirror_mode": {
    "name": "ipython",
    "version": 3
   },
   "file_extension": ".py",
   "mimetype": "text/x-python",
   "name": "python",
   "nbconvert_exporter": "python",
   "pygments_lexer": "ipython3",
   "version": "3.8.5"
  }
 },
 "nbformat": 4,
 "nbformat_minor": 1
}
