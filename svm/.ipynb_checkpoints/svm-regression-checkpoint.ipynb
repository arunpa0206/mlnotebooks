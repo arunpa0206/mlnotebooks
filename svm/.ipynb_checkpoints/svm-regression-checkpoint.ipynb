{
 "cells": [
  {
   "cell_type": "code",
   "execution_count": 4,
   "metadata": {
    "colab": {
     "base_uri": "https://localhost:8080/"
    },
    "executionInfo": {
     "elapsed": 859,
     "status": "ok",
     "timestamp": 1613997746804,
     "user": {
      "displayName": "meenakshi meyyammai",
      "photoUrl": "https://lh3.googleusercontent.com/a-/AOh14GgqOL6XSRGNDaYfV_dgRFMRv7m8ABRr31ql5RGa4g=s64",
      "userId": "11768016833716445346"
     },
     "user_tz": -330
    },
    "id": "CfPZb4WlwbPL",
    "outputId": "895c5a5f-ca4b-4783-d1f1-9cb6ce0d5234"
   },
   "outputs": [
    {
     "name": "stdout",
     "output_type": "stream",
     "text": [
      "\n",
      "===================================================================\n",
      "Support Vector Regression (SVR) using linear and non-linear kernels\n",
      "===================================================================\n",
      "Toy example of 1D regression using linear, polynomial and RBF kernels.\n",
      "\n",
      "[[0.19059383]\n",
      " [0.39120477]\n",
      " [0.41582854]\n",
      " [0.63370961]\n",
      " [0.71090757]]\n",
      "[0.189442   0.38130244 0.403948   0.59213817 0.65252177]\n"
     ]
    }
   ],
   "source": [
    "\"\"\"\n",
    "===================================================================\n",
    "Support Vector Regression (SVR) using linear and non-linear kernels\n",
    "===================================================================\n",
    "Toy example of 1D regression using linear, polynomial and RBF kernels.\n",
    "\"\"\"\n",
    "print(__doc__)\n",
    "\n",
    "import numpy as np\n",
    "from sklearn.svm import SVR\n",
    "import matplotlib.pyplot as plt\n",
    "\n",
    "# #############################################################################\n",
    "# Generate sample data\n",
    "X = np.sort(5 * np.random.rand(40, 1), axis=0)\n",
    "y = np.sin(X).ravel()\n",
    "\n",
    "print(X[:5])\n",
    "print(y[:5])\n"
   ]
  },
  {
   "cell_type": "code",
   "execution_count": 5,
   "metadata": {
    "executionInfo": {
     "elapsed": 1130,
     "status": "ok",
     "timestamp": 1613997755125,
     "user": {
      "displayName": "meenakshi meyyammai",
      "photoUrl": "https://lh3.googleusercontent.com/a-/AOh14GgqOL6XSRGNDaYfV_dgRFMRv7m8ABRr31ql5RGa4g=s64",
      "userId": "11768016833716445346"
     },
     "user_tz": -330
    },
    "id": "tT6lwp7GwvoO"
   },
   "outputs": [],
   "source": [
    "\n",
    "# #############################################################################\n",
    "# Add noise to targets\n",
    "y[::5] += 3 * (0.5 - np.random.rand(8))\n",
    "\n",
    "# #############################################################################\n",
    "# Fit regression model\n",
    "#C is the parameter for the soft margin cost function, which controls the influence of each individual support vector; this process involves trading error penalty for stability.\n",
    "#Gamma is the free parameter of the Gaussian radial basis function.\n",
    "# A small gamma means a Gaussian with a large variance\n",
    "#so the influence of x_j is more, i.e. if x_j is a support vector, a small gamma implies the class of this support vector will have influence on deciding the class of the vector x_i even if the distance between them is large. If gamma is large, then variance is small implying the support vector does not have wide-spread influence. Technically speaking, large gamma leads to high bias and low variance models, and vice-versa.\n",
    "\n",
    "svr_rbf = SVR(kernel='rbf', C=1e3, gamma='scale')\n",
    "svr_lin = SVR(kernel='linear', C=1e3,gamma='scale')\n",
    "svr_poly = SVR(kernel='poly', C=1e3, degree=2,gamma='scale')\n",
    "y_rbf = svr_rbf.fit(X, y).predict(X)\n",
    "y_lin = svr_lin.fit(X, y).predict(X)\n",
    "y_poly = svr_poly.fit(X, y).predict(X)\n",
    "\n",
    "# #############################################################################\n",
    "# Look at the results\n"
   ]
  },
  {
   "cell_type": "code",
   "execution_count": 6,
   "metadata": {
    "colab": {
     "base_uri": "https://localhost:8080/",
     "height": 295
    },
    "executionInfo": {
     "elapsed": 1235,
     "status": "ok",
     "timestamp": 1613997756753,
     "user": {
      "displayName": "meenakshi meyyammai",
      "photoUrl": "https://lh3.googleusercontent.com/a-/AOh14GgqOL6XSRGNDaYfV_dgRFMRv7m8ABRr31ql5RGa4g=s64",
      "userId": "11768016833716445346"
     },
     "user_tz": -330
    },
    "id": "98mCmktMw0Y_",
    "outputId": "63259b76-54c9-4dcf-c6b4-d3b317c78337"
   },
   "outputs": [
    {
     "data": {
      "image/png": "[encoded data removed]",
      "text/plain": [
       "<Figure size 432x288 with 1 Axes>"
      ]
     },
     "metadata": {
      "needs_background": "light"
     },
     "output_type": "display_data"
    }
   ],
   "source": [
    "lw = 2\n",
    "plt.scatter(X, y, color='darkorange', label='data')\n",
    "plt.plot(X, y_rbf, color='navy', lw=lw, label='RBF model')\n",
    "plt.plot(X, y_lin, color='c', lw=lw, label='Linear model')\n",
    "plt.plot(X, y_poly, color='cornflowerblue', lw=lw, label='Polynomial model')\n",
    "plt.xlabel('data')\n",
    "plt.ylabel('target')\n",
    "plt.title('Support Vector Regression')\n",
    "plt.legend()\n",
    "plt.show()"
   ]
  },
  {
   "cell_type": "code",
   "execution_count": null,
   "metadata": {
    "id": "PAx0U0sPw0wd"
   },
   "outputs": [],
   "source": []
  }
 ],
 "metadata": {
  "colab": {
   "authorship_tag": "ABX9TyMTjG7mK5wB+p6rSX9FhSOQ",
   "name": "svm-regression.ipynb",
   "provenance": []
  },
  "kernelspec": {
   "display_name": "Python 3",
   "language": "python",
   "name": "python3"
  },
  "language_info": {
   "codemirror_mode": {
    "name": "ipython",
    "version": 3
   },
   "file_extension": ".py",
   "mimetype": "text/x-python",
   "name": "python",
   "nbconvert_exporter": "python",
   "pygments_lexer": "ipython3",
   "version": "3.8.5"
  }
 },
 "nbformat": 4,
 "nbformat_minor": 1
}
